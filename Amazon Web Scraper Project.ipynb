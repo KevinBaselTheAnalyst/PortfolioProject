{
 "cells": [
  {
   "cell_type": "code",
   "execution_count": 1,
   "id": "b8f717a2-57d5-4d58-8aba-7f6f5ac66a38",
   "metadata": {},
   "outputs": [],
   "source": [
    "# Import libraries \n",
    "\n",
    "from bs4 import BeautifulSoup\n",
    "import requests\n",
    "import time\n",
    "import datetime\n",
    "\n",
    "import smtplib"
   ]
  },
  {
   "cell_type": "code",
   "execution_count": 2,
   "id": "50d13e32-6bda-4de1-8a85-78a42df3b474",
   "metadata": {},
   "outputs": [
    {
     "name": "stdout",
     "output_type": "stream",
     "text": [
      "Gigabyte GeForce RTX 4080 SUPER GAMING OC - Scheda grafica 2595 MHz, 16 GB GDDR6X 23000 MHz 256 bit, PCI-E 4.0, 3 DP 1.4, 1 HDMI 2.1a, NVIDIA DLSS 3.5, GV-N408SGAMING OC-16GD\n",
      "1.237,00\n"
     ]
    }
   ],
   "source": [
    "# Connect to Website and pull in data\n",
    "\n",
    "URL = 'https://www.amazon.it/Gigabyte-GeForce-4080-SUPER-GAMING/dp/B0CQTP6J3Z?__mk_it_IT=%C3%85M%C3%85%C5%BD%C3%95%C3%91&crid=20Q1P8ZEJPEX0&dib=eyJ2IjoiMSJ9.BuaOG3LI5eQ4u2JZA5Sw2grMMyGsCSyX5PO410-zzIHpn1lmOc7DQWaQncOnuee9UiYFTNUKzIdXKyXcr9EwwIQV5j7fxc9gcCuXOER79zjTSq6pIQxCYxFVBEcU_G02eChjL6gzWiBWZJDxxJ6b8FpMmqCdi6ChTE7xv32_GaLtweFjb7A0unn89Rh0YNY7nnF7tB6vL97hLFG_AGe54UFiQ3qHUKl3mvunvePcZSw4e2YdKtpL6lWDRJ9w91KIzka-UqWuQCa85CdUaFG64D9IF0HDthVMKaTByGsR28R_UDXHrGl68C6UtjDLn6PxELkm57RtXExjX6BxMNKSdUAQNuiu93vpJheNhPyYCfOHqQMINeRossRZNW0i3aBxl6LWjwuY53Tk-5XCEDX0atVVFZDQGetenyP3FZdsY4RmCEA7mZUc1dz7WbmSpPK3.cwxzmDteHWfyP--Fy995ybM7_tjZ__Q5qSsZiWlACDc&dib_tag=se&keywords=nvidia%2B5090&nsdOptOutParam=true&qid=1737631756&sprefix=nvidia%2B%2Caps%2C713&sr=8-5&th=1'\n",
    "\n",
    "headers = {\"User-Agent\": \"Mozilla/5.0 (Windows NT 10.0; Win64; x64) AppleWebKit/537.36 (KHTML, like Gecko) Chrome/131.0.0.0 Safari/537.36\", \"Accept-Encoding\":\"gzip, deflate\", \"Accept\":\"text/html,application/xhtml+xml,application/xml;q=0.9,*/*;q=0.8\", \"DNT\":\"1\",\"Connection\":\"close\", \"Upgrade-Insecure-Requests\":\"1\"}\n",
    "\n",
    "page = requests.get(URL, headers=headers)\n",
    "\n",
    "soup1 = BeautifulSoup(page.content, \"html.parser\")\n",
    "\n",
    "soup2 = BeautifulSoup(soup1.prettify(), \"html.parser\")\n",
    "\n",
    "title = soup2.find(id='productTitle').get_text(strip=True)\n",
    "price = soup2.find('span', class_='priceToPay').get_text(strip=True).replace(\"€\", \"\")\n",
    "\n",
    "print(title)\n",
    "print(price)"
   ]
  },
  {
   "cell_type": "code",
   "execution_count": 3,
   "id": "b1b736d9-7ca8-4f27-97b6-341ffd74df9e",
   "metadata": {},
   "outputs": [
    {
     "name": "stdout",
     "output_type": "stream",
     "text": [
      "2025-01-24\n"
     ]
    }
   ],
   "source": [
    "# Create a Timestamp for the output to track when data was collected\n",
    "\n",
    "import datetime\n",
    "\n",
    "today = datetime.date.today()\n",
    "\n",
    "print(today)"
   ]
  },
  {
   "cell_type": "code",
   "execution_count": 4,
   "id": "9802762b-1531-4f12-b4a3-ba7e353b9df9",
   "metadata": {},
   "outputs": [],
   "source": [
    "# Create CSV and write headers and data into the file\n",
    "\n",
    "import csv \n",
    "\n",
    "header = ['Title', 'Price', 'Date']\n",
    "data = [title, price, today]\n",
    "\n",
    "\n",
    "with open('AmazonWebScraperDataset.csv', 'w', newline='', encoding='UTF8') as f:\n",
    "    writer = csv.writer(f)\n",
    "    writer.writerow(header)\n",
    "    writer.writerow(data)"
   ]
  },
  {
   "cell_type": "code",
   "execution_count": 5,
   "id": "389a7d2c-7bc6-42a9-b7e7-541ee9966ec0",
   "metadata": {},
   "outputs": [
    {
     "name": "stdout",
     "output_type": "stream",
     "text": [
      "                                               Title     Price        Date\n",
      "0  Gigabyte GeForce RTX 4080 SUPER GAMING OC - Sc...  1.237,00  2025-01-24\n"
     ]
    }
   ],
   "source": [
    "import pandas as pd\n",
    "\n",
    "df = pd.read_csv(r'C:\\Users\\kbase\\AmazonWebScraperDataset.csv')\n",
    "\n",
    "print(df)"
   ]
  },
  {
   "cell_type": "code",
   "execution_count": 6,
   "id": "70171bc9-187b-4e6f-b11e-83e8e2ea308a",
   "metadata": {},
   "outputs": [],
   "source": [
    "# Appending data to the CSV\n",
    "\n",
    "with open('AmazonWebScraperDataset.csv', 'a+', newline='', encoding='UTF8') as f:\n",
    "    writer = csv.writer(f)\n",
    "    writer.writerow(data)"
   ]
  },
  {
   "cell_type": "code",
   "execution_count": 7,
   "id": "b1f43631-e67a-4220-ad01-6bc59b69f27c",
   "metadata": {},
   "outputs": [],
   "source": [
    "#Combine all of the above code into one function\n",
    "\n",
    "def check_price():\n",
    "    URL = 'https://www.amazon.it/Gigabyte-GeForce-4080-SUPER-GAMING/dp/B0CQTP6J3Z?__mk_it_IT=%C3%85M%C3%85%C5%BD%C3%95%C3%91&crid=20Q1P8ZEJPEX0&dib=eyJ2IjoiMSJ9.BuaOG3LI5eQ4u2JZA5Sw2grMMyGsCSyX5PO410-zzIHpn1lmOc7DQWaQncOnuee9UiYFTNUKzIdXKyXcr9EwwIQV5j7fxc9gcCuXOER79zjTSq6pIQxCYxFVBEcU_G02eChjL6gzWiBWZJDxxJ6b8FpMmqCdi6ChTE7xv32_GaLtweFjb7A0unn89Rh0YNY7nnF7tB6vL97hLFG_AGe54UFiQ3qHUKl3mvunvePcZSw4e2YdKtpL6lWDRJ9w91KIzka-UqWuQCa85CdUaFG64D9IF0HDthVMKaTByGsR28R_UDXHrGl68C6UtjDLn6PxELkm57RtXExjX6BxMNKSdUAQNuiu93vpJheNhPyYCfOHqQMINeRossRZNW0i3aBxl6LWjwuY53Tk-5XCEDX0atVVFZDQGetenyP3FZdsY4RmCEA7mZUc1dz7WbmSpPK3.cwxzmDteHWfyP--Fy995ybM7_tjZ__Q5qSsZiWlACDc&dib_tag=se&keywords=nvidia%2B5090&nsdOptOutParam=true&qid=1737631756&sprefix=nvidia%2B%2Caps%2C713&sr=8-5&th=1'\n",
    "\n",
    "    headers = {\"User-Agent\": \"Mozilla/5.0 (Windows NT 10.0; Win64; x64) AppleWebKit/537.36 (KHTML, like Gecko) Chrome/131.0.0.0 Safari/537.36\", \"Accept-Encoding\":\"gzip, deflate\", \"Accept\":\"text/html,application/xhtml+xml,application/xml;q=0.9,*/*;q=0.8\", \"DNT\":\"1\",\"Connection\":\"close\", \"Upgrade-Insecure-Requests\":\"1\"}\n",
    "\n",
    "    page = requests.get(URL, headers=headers)\n",
    "\n",
    "    soup1 = BeautifulSoup(page.content, \"html.parser\")\n",
    "\n",
    "    soup2 = BeautifulSoup(soup1.prettify(), \"html.parser\")\n",
    "\n",
    "    title = soup2.find(id='productTitle').get_text(strip=True)\n",
    "    price = soup2.find('span', class_='priceToPay').get_text(strip=True).replace(\"€\", \"\")\n",
    "\n",
    "    import datetime\n",
    "    today = datetime.date.today()\n",
    "    print(today)\n",
    "\n",
    "    import csv \n",
    "    header = ['Title', 'Price', 'Date']\n",
    "    data = [title, price, today]\n",
    "\n",
    "    with open('AmazonWebScraperDataset.csv', 'a+', newline='', encoding='UTF8') as f:\n",
    "        writer = csv.writer(f)\n",
    "        writer.writerow(data)\n",
    "\n",
    "    if (price < 1.000,00)\n",
    "        send_mail()"
   ]
  },
  {
   "cell_type": "code",
   "execution_count": null,
   "id": "31f6d8d7-598b-4e15-8f97-b9947406820b",
   "metadata": {},
   "outputs": [
    {
     "name": "stdout",
     "output_type": "stream",
     "text": [
      "2025-01-24\n"
     ]
    }
   ],
   "source": [
    "# Runs check_price after a set time and inputs data into the CSV\n",
    "\n",
    "while(True):\n",
    "    check_price()\n",
    "    time.sleep(86400)"
   ]
  },
  {
   "cell_type": "code",
   "execution_count": null,
   "id": "186bc349-0318-4543-a6b1-68025812f4ae",
   "metadata": {},
   "outputs": [],
   "source": [
    "import pandas as pd\n",
    "\n",
    "df = pd.read_csv(r'C:\\Users\\kbase\\AmazonWebScraperDataset.csv')\n",
    "\n",
    "print(df)"
   ]
  },
  {
   "cell_type": "code",
   "execution_count": null,
   "id": "8a765eea-bb39-400c-a7e1-107fb2e99af4",
   "metadata": {},
   "outputs": [],
   "source": [
    "# Sending an email when a price hits below a certain level\n",
    "\n",
    "def send_mail():\n",
    "    server = smtplib.SMTP_SSL('smtp.gmail.com',465)\n",
    "    server.ehlo()\n",
    "    #server.starttls()\n",
    "    server.ehlo()\n",
    "    server.login('k.baselice@gmail.com','xxxxxxxxxxxxxx')\n",
    "    \n",
    "    subject = \"The Gigabyte GeForce RTX 4080 SUPER GAMING you want is below 1.000,00€! Now is your chance to buy!\"\n",
    "    body = \"Kevin, This is the moment we have been waiting for. Now is your chance to pick up the Gigabyte GeForce of your dreams. Don't mess it up! Link here: https://www.amazon.it/Gigabyte-GeForce-4080-SUPER-GAMING/dp/B0CQTP6J3Z?__mk_it_IT=%C3%85M%C3%85%C5%BD%C3%95%C3%91&crid=20Q1P8ZEJPEX0&dib=eyJ2IjoiMSJ9.BuaOG3LI5eQ4u2JZA5Sw2grMMyGsCSyX5PO410-zzIHpn1lmOc7DQWaQncOnuee9UiYFTNUKzIdXKyXcr9EwwIQV5j7fxc9gcCuXOER79zjTSq6pIQxCYxFVBEcU_G02eChjL6gzWiBWZJDxxJ6b8FpMmqCdi6ChTE7xv32_GaLtweFjb7A0unn89Rh0YNY7nnF7tB6vL97hLFG_AGe54UFiQ3qHUKl3mvunvePcZSw4e2YdKtpL6lWDRJ9w91KIzka-UqWuQCa85CdUaFG64D9IF0HDthVMKaTByGsR28R_UDXHrGl68C6UtjDLn6PxELkm57RtXExjX6BxMNKSdUAQNuiu93vpJheNhPyYCfOHqQMINeRossRZNW0i3aBxl6LWjwuY53Tk-5XCEDX0atVVFZDQGetenyP3FZdsY4RmCEA7mZUc1dz7WbmSpPK3.cwxzmDteHWfyP--Fy995ybM7_tjZ__Q5qSsZiWlACDc&dib_tag=se&keywords=nvidia%2B5090&nsdOptOutParam=true&qid=1737631756&sprefix=nvidia%2B%2Caps%2C713&sr=8-5&th=1\"\n",
    "   \n",
    "    msg = f\"Subject: {subject}\\n\\n{body}\"\n",
    "    \n",
    "    server.sendmail(\n",
    "        'k.baselice@gmail.com',\n",
    "        msg   \n",
    "    )"
   ]
  }
 ],
 "metadata": {
  "kernelspec": {
   "display_name": "Python [conda env:base] *",
   "language": "python",
   "name": "conda-base-py"
  },
  "language_info": {
   "codemirror_mode": {
    "name": "ipython",
    "version": 3
   },
   "file_extension": ".py",
   "mimetype": "text/x-python",
   "name": "python",
   "nbconvert_exporter": "python",
   "pygments_lexer": "ipython3",
   "version": "3.12.7"
  }
 },
 "nbformat": 4,
 "nbformat_minor": 5
}
